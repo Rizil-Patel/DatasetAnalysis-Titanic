{
  "nbformat": 4,
  "nbformat_minor": 0,
  "metadata": {
    "colab": {
      "provenance": [],
      "authorship_tag": "ABX9TyOz8wWg2XOUK8agZCJQGj2G",
      "include_colab_link": true
    },
    "kernelspec": {
      "name": "python3",
      "display_name": "Python 3"
    },
    "language_info": {
      "name": "python"
    }
  },
  "cells": [
    {
      "cell_type": "markdown",
      "metadata": {
        "id": "view-in-github",
        "colab_type": "text"
      },
      "source": [
        "<a href=\"https://colab.research.google.com/github/Rizil-Patel/DatasetAnalysis-Titanic/blob/main/Titanic_Dataset_Analysis_Classification.ipynb\" target=\"_parent\"><img src=\"https://colab.research.google.com/assets/colab-badge.svg\" alt=\"Open In Colab\"/></a>"
      ]
    },
    {
      "cell_type": "code",
      "execution_count": null,
      "metadata": {
        "id": "l8RXjrr68wlw"
      },
      "outputs": [],
      "source": [
        "import pandas as pd\n",
        "import numpy as np\n",
        "import matplotlib.pyplot as plt\n",
        "import seaborn as sns\n",
        "from IPython.display import Image, display\n",
        "%matplotlib inline"
      ]
    },
    {
      "cell_type": "code",
      "source": [
        "train = pd.read_csv('../input/train.csv')"
      ],
      "metadata": {
        "id": "IAhDLwWq83Rq"
      },
      "execution_count": null,
      "outputs": []
    },
    {
      "cell_type": "code",
      "source": [
        "display(train.head())"
      ],
      "metadata": {
        "id": "6-IjiNhX83Ua"
      },
      "execution_count": null,
      "outputs": []
    },
    {
      "cell_type": "code",
      "source": [
        "train = train.set_index('PassengerId')"
      ],
      "metadata": {
        "id": "d69WrrzH83WY"
      },
      "execution_count": null,
      "outputs": []
    },
    {
      "cell_type": "code",
      "source": [
        "test = pd.read_csv('../input/test.csv')"
      ],
      "metadata": {
        "id": "jj80EPbw83Yv"
      },
      "execution_count": null,
      "outputs": []
    },
    {
      "cell_type": "code",
      "source": [
        "display(test.head())"
      ],
      "metadata": {
        "id": "5QyRp8QP9J5s"
      },
      "execution_count": null,
      "outputs": []
    },
    {
      "cell_type": "code",
      "source": [
        "train.shape"
      ],
      "metadata": {
        "id": "1CMnpoys9Iha"
      },
      "execution_count": null,
      "outputs": []
    },
    {
      "cell_type": "code",
      "source": [
        "train.head()"
      ],
      "metadata": {
        "id": "bnzQtmby9Npj"
      },
      "execution_count": null,
      "outputs": []
    },
    {
      "cell_type": "code",
      "source": [
        "datadict = pd.DataFrame(train.dtypes)\n",
        "datadict"
      ],
      "metadata": {
        "id": "7SJ_7vu59Ij3"
      },
      "execution_count": null,
      "outputs": []
    },
    {
      "cell_type": "code",
      "source": [
        "datadict['MissingVal'] = train.isnull().sum()\n",
        "datadict"
      ],
      "metadata": {
        "id": "_Fe9Qn1K9Imb"
      },
      "execution_count": null,
      "outputs": []
    },
    {
      "cell_type": "code",
      "source": [
        "datadict['NUnique']=train.nunique()\n",
        "datadict"
      ],
      "metadata": {
        "id": "Yy3ZB2W_9Ioy"
      },
      "execution_count": null,
      "outputs": []
    },
    {
      "cell_type": "code",
      "source": [
        "datadict['Count']=train.count()\n",
        "datadict"
      ],
      "metadata": {
        "id": "we6SUwWd9Iq2"
      },
      "execution_count": null,
      "outputs": []
    },
    {
      "cell_type": "code",
      "source": [
        "datadict = datadict.rename(columns={0:'DataType'})\n",
        "datadict"
      ],
      "metadata": {
        "id": "JTfPWpnq9IuS"
      },
      "execution_count": null,
      "outputs": []
    },
    {
      "cell_type": "code",
      "source": [
        "train.describe(include=['object'])\n"
      ],
      "metadata": {
        "id": "J6UC9t8i9ZMJ"
      },
      "execution_count": null,
      "outputs": []
    },
    {
      "cell_type": "code",
      "source": [
        "train.describe(include=['number'])"
      ],
      "metadata": {
        "id": "rdfyxkkA9ZOr"
      },
      "execution_count": null,
      "outputs": []
    },
    {
      "cell_type": "code",
      "source": [
        "train.Survived.value_counts(normalize=True)"
      ],
      "metadata": {
        "id": "m5vGCMqo9ZRW"
      },
      "execution_count": null,
      "outputs": []
    },
    {
      "cell_type": "code",
      "source": [
        "fig, axes = plt.subplots(2, 4, figsize=(16, 10))\n",
        "sns.countplot('Survived',data=train,ax=axes[0,0])\n",
        "sns.countplot('Pclass',data=train,ax=axes[0,1])\n",
        "sns.countplot('Sex',data=train,ax=axes[0,2])\n",
        "sns.countplot('SibSp',data=train,ax=axes[0,3])\n",
        "sns.countplot('Parch',data=train,ax=axes[1,0])\n",
        "sns.countplot('Embarked',data=train,ax=axes[1,1])\n",
        "sns.distplot(train['Fare'], kde=True,ax=axes[1,2])\n",
        "sns.distplot(train['Age'].dropna(),kde=True,ax=axes[1,3])"
      ],
      "metadata": {
        "id": "hS0cW9M_9ZTs"
      },
      "execution_count": null,
      "outputs": []
    },
    {
      "cell_type": "code",
      "source": [
        "figbi, axesbi = plt.subplots(2, 4, figsize=(16, 10))\n",
        "train.groupby('Pclass')['Survived'].mean().plot(kind='barh',ax=axesbi[0,0],xlim=[0,1])\n",
        "train.groupby('SibSp')['Survived'].mean().plot(kind='barh',ax=axesbi[0,1],xlim=[0,1])\n",
        "train.groupby('Parch')['Survived'].mean().plot(kind='barh',ax=axesbi[0,2],xlim=[0,1])\n",
        "train.groupby('Sex')['Survived'].mean().plot(kind='barh',ax=axesbi[0,3],xlim=[0,1])\n",
        "train.groupby('Embarked')['Survived'].mean().plot(kind='barh',ax=axesbi[1,0],xlim=[0,1])\n",
        "sns.boxplot(x=\"Survived\", y=\"Age\", data=train,ax=axesbi[1,1])\n",
        "sns.boxplot(x=\"Survived\", y=\"Fare\", data=train,ax=axesbi[1,2])"
      ],
      "metadata": {
        "id": "R0g0mZLp9ZWC"
      },
      "execution_count": null,
      "outputs": []
    },
    {
      "cell_type": "code",
      "source": [
        "sns.jointplot(x=\"Age\", y=\"Fare\", data=train);"
      ],
      "metadata": {
        "id": "owLcLgj89ZYb"
      },
      "execution_count": null,
      "outputs": []
    },
    {
      "cell_type": "code",
      "source": [
        "import seaborn as sns\n",
        "\n",
        "f, ax = plt.subplots(figsize=(10, 8))\n",
        "corr = train.corr()\n",
        "sns.heatmap(corr,\n",
        "            mask=np.zeros_like(corr, dtype=np.bool),\n",
        "            cmap=sns.diverging_palette(220, 10, as_cmap=True),\n",
        "            square=True, ax=ax)"
      ],
      "metadata": {
        "id": "R5S-kZCJ9Zas"
      },
      "execution_count": null,
      "outputs": []
    },
    {
      "cell_type": "code",
      "source": [
        "train['Name_len']=train.Name.str.len()\n",
        "train['Ticket_First']=train.Ticket.str[0]\n",
        "train['FamilyCount']=train.SibSp+train.Parch\n",
        "train['Cabin_First']=train.Cabin.str[0]\n",
        "train['title'] = train.Name.str.extract('\\, ([A-Z][^ ]*\\.)',expand=False)\n",
        "train.title.value_counts().reset_index()"
      ],
      "metadata": {
        "id": "_mb4Ad8d9ZdM"
      },
      "execution_count": null,
      "outputs": []
    },
    {
      "cell_type": "code",
      "source": [
        "print((train.Fare == 0).sum())"
      ],
      "metadata": {
        "id": "eFZIRzqX9Zfr"
      },
      "execution_count": null,
      "outputs": []
    },
    {
      "cell_type": "code",
      "source": [
        "train.Fare = train.Fare.replace(0, np.NaN)"
      ],
      "metadata": {
        "id": "ZOo_lG1n9Zhn"
      },
      "execution_count": null,
      "outputs": []
    },
    {
      "cell_type": "code",
      "source": [
        "print((train.Fare == 0).sum())"
      ],
      "metadata": {
        "id": "MNOZgtoh9Zj5"
      },
      "execution_count": null,
      "outputs": []
    },
    {
      "cell_type": "code",
      "source": [
        "train[train.Fare.isnull()].index"
      ],
      "metadata": {
        "id": "3RygVe_B9ZnT"
      },
      "execution_count": null,
      "outputs": []
    },
    {
      "cell_type": "code",
      "source": [
        "train.Fare.mean()"
      ],
      "metadata": {
        "id": "7_StHZir83cP"
      },
      "execution_count": null,
      "outputs": []
    },
    {
      "cell_type": "code",
      "source": [
        "train.Fare.fillna(train.Fare.mean(),inplace=True)\n",
        "train[train.Fare.isnull()]\n",
        "\n",
        "print((train.Age == 0).sum())\n",
        "train.Age.fillna(train.Age.mean(),inplace=True)\n",
        "train[train.Age.isnull()]\n",
        "train.Cabin.isnull().mean()\n",
        "train.info()\n",
        "train.columns\n",
        "trainML = trainML.dropna()\n",
        "trainML.isnull().sum()\n",
        "\n",
        "from sklearn.linear_model import LogisticRegression\n",
        "lr = LogisticRegression()\n",
        "X_Age = trainML[['Age']].values\n",
        "y = trainML['Survived'].values\n",
        "lr.fit(X_Age,y)\n",
        "y_predict = lr.predict(X_Age)\n",
        "y_predict[:10]\n",
        "(y == y_predict).mean()\n",
        "\n",
        "X_Fare = trainML[['Fare']].values\n",
        "y = trainML['Survived'].values\n",
        "lr.fit(X_Fare,y)\n",
        "y_predict = lr.predict(X_Fare)\n",
        "y_predict[:10]\n",
        "(y == y_predict).mean()\n",
        "\n",
        "X_sex = pd.get_dummies(trainML['Sex']).values\n",
        "y = trainML['Survived'].values\n",
        "lr.fit(X_sex, y)\n",
        "y_predict = lr.predict(X_sex)\n",
        "y_predict[:10]\n",
        "(y == y_predict).mean()\n",
        "\n",
        "X_pclass = pd.get_dummies(trainML['Pclass']).values\n",
        "y = trainML['Survived'].values\n",
        "lr = LogisticRegression()\n",
        "lr.fit(X_pclass, y)\n",
        "y_predict = lr.predict(X_pclass)\n",
        "y_predict[:10]\n",
        "(y == y_predict).mean()\n",
        "\n",
        "from sklearn.ensemble import RandomForestClassifier\n",
        "X=trainML[['Age', 'SibSp', 'Parch',\n",
        "       'Fare', 'Name_len', 'FamilyCount']].values # Taking all the numerical values\n",
        "y = trainML['Survived'].values\n",
        "RF = RandomForestClassifier()\n",
        "RF.fit(X, y)\n",
        "y_predict = RF.predict(X)\n",
        "y_predict[:10]\n",
        "(y == y_predict).mean()"
      ],
      "metadata": {
        "id": "KDGrhERV-Il4"
      },
      "execution_count": null,
      "outputs": []
    },
    {
      "cell_type": "code",
      "source": [],
      "metadata": {
        "id": "-qPVZHDU-IoI"
      },
      "execution_count": null,
      "outputs": []
    },
    {
      "cell_type": "code",
      "source": [],
      "metadata": {
        "id": "x2km2c-Q-Iqb"
      },
      "execution_count": null,
      "outputs": []
    },
    {
      "cell_type": "code",
      "source": [],
      "metadata": {
        "id": "sJHw6wnF-Isx"
      },
      "execution_count": null,
      "outputs": []
    },
    {
      "cell_type": "code",
      "source": [],
      "metadata": {
        "id": "E8KY8RuU-IwH"
      },
      "execution_count": null,
      "outputs": []
    }
  ]
}